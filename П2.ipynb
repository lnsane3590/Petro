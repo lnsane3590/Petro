{
 "cells": [
  {
   "attachments": {},
   "cell_type": "markdown",
   "id": "1d4c27d7",
   "metadata": {},
   "source": [
    "# Корреляция пластов Ем-Еговского месторождения"
   ]
  },
  {
   "cell_type": "code",
   "execution_count": 1,
   "id": "1d2b13bc",
   "metadata": {},
   "outputs": [],
   "source": [
    "import numpy as np\n",
    "from matplotlib import pyplot as plt\n",
    "import pandas as pd\n",
    "from seaborn import distplot\n",
    "import math"
   ]
  },
  {
   "attachments": {},
   "cell_type": "markdown",
   "id": "1cb2f9cd",
   "metadata": {},
   "source": [
    "Подгружаю библиотеки"
   ]
  },
  {
   "cell_type": "code",
   "execution_count": 2,
   "id": "3f455e33",
   "metadata": {},
   "outputs": [],
   "source": [
    "_102 = pd.read_csv('Таёжное 102.csv', sep=\";\")\n",
    "_103 = pd.read_csv('Таёжное 103.csv',sep=\";\")\n"
   ]
  },
  {
   "attachments": {},
   "cell_type": "markdown",
   "id": "5c13766c",
   "metadata": {},
   "source": [
    "Читаю файлы"
   ]
  },
  {
   "cell_type": "code",
   "execution_count": 3,
   "id": "7e6c12a8",
   "metadata": {
    "scrolled": true
   },
   "outputs": [
    {
     "data": {
      "text/html": [
       "<div>\n",
       "<style scoped>\n",
       "    .dataframe tbody tr th:only-of-type {\n",
       "        vertical-align: middle;\n",
       "    }\n",
       "\n",
       "    .dataframe tbody tr th {\n",
       "        vertical-align: top;\n",
       "    }\n",
       "\n",
       "    .dataframe thead th {\n",
       "        text-align: right;\n",
       "    }\n",
       "</style>\n",
       "<table border=\"1\" class=\"dataframe\">\n",
       "  <thead>\n",
       "    <tr style=\"text-align: right;\">\n",
       "      <th></th>\n",
       "      <th>Number</th>\n",
       "      <th>H</th>\n",
       "      <th>Depth</th>\n",
       "      <th>Rock</th>\n",
       "      <th>Color</th>\n",
       "      <th>ТЕКСТУРА</th>\n",
       "      <th>Включения органогенные</th>\n",
       "      <th>Включения минеральные</th>\n",
       "      <th>НЕФТЕНАСЫЩЕНИЕ</th>\n",
       "      <th>ПОДОШВА СЛОЯ</th>\n",
       "    </tr>\n",
       "  </thead>\n",
       "  <tbody>\n",
       "    <tr>\n",
       "      <th>0</th>\n",
       "      <td>1</td>\n",
       "      <td>0.42</td>\n",
       "      <td>1019.69</td>\n",
       "      <td>Песчаники крупнозернистые</td>\n",
       "      <td>буро-\\бежевые</td>\n",
       "      <td>Массивная</td>\n",
       "      <td>NaN</td>\n",
       "      <td>Нефть</td>\n",
       "      <td>Умеренное</td>\n",
       "      <td>не охарактеризована керном</td>\n",
       "    </tr>\n",
       "    <tr>\n",
       "      <th>1</th>\n",
       "      <td>2</td>\n",
       "      <td>1.80</td>\n",
       "      <td>1017.89</td>\n",
       "      <td>Глины</td>\n",
       "      <td>\\темно-серые</td>\n",
       "      <td>Горизонтальная параллельная</td>\n",
       "      <td>Углистый детрит</td>\n",
       "      <td>NaN</td>\n",
       "      <td>NaN</td>\n",
       "      <td>неровная</td>\n",
       "    </tr>\n",
       "    <tr>\n",
       "      <th>2</th>\n",
       "      <td>3</td>\n",
       "      <td>0.10</td>\n",
       "      <td>1017.79</td>\n",
       "      <td>Песчаники крупнозернистые</td>\n",
       "      <td>серо-\\бежевые</td>\n",
       "      <td>Массивная\\Горизонтальная параллельная</td>\n",
       "      <td>NaN</td>\n",
       "      <td>Нефть</td>\n",
       "      <td>Незначительное</td>\n",
       "      <td>неровная</td>\n",
       "    </tr>\n",
       "    <tr>\n",
       "      <th>3</th>\n",
       "      <td>4</td>\n",
       "      <td>0.62</td>\n",
       "      <td>1017.17</td>\n",
       "      <td>Глины</td>\n",
       "      <td>\\темно-серые</td>\n",
       "      <td>Горизонтальная параллельная\\Горизонтальная вол...</td>\n",
       "      <td>Углистые остатки</td>\n",
       "      <td>NaN</td>\n",
       "      <td>NaN</td>\n",
       "      <td>неровная</td>\n",
       "    </tr>\n",
       "    <tr>\n",
       "      <th>4</th>\n",
       "      <td>5</td>\n",
       "      <td>0.92</td>\n",
       "      <td>1016.25</td>\n",
       "      <td>Песчаники крупнозернистые</td>\n",
       "      <td>\\бежевые</td>\n",
       "      <td>Массивная</td>\n",
       "      <td>NaN</td>\n",
       "      <td>NaN</td>\n",
       "      <td>NaN</td>\n",
       "      <td>неровная</td>\n",
       "    </tr>\n",
       "    <tr>\n",
       "      <th>5</th>\n",
       "      <td>6</td>\n",
       "      <td>0.84</td>\n",
       "      <td>1015.41</td>\n",
       "      <td>Глины</td>\n",
       "      <td>\\темно-серые</td>\n",
       "      <td>Горизонтальная параллельная</td>\n",
       "      <td>Углистый детрит</td>\n",
       "      <td>NaN</td>\n",
       "      <td>NaN</td>\n",
       "      <td>неровная</td>\n",
       "    </tr>\n",
       "    <tr>\n",
       "      <th>6</th>\n",
       "      <td>7</td>\n",
       "      <td>0.31</td>\n",
       "      <td>1015.10</td>\n",
       "      <td>Угли</td>\n",
       "      <td>\\чёрные</td>\n",
       "      <td>Горизонтальная параллельная</td>\n",
       "      <td>NaN</td>\n",
       "      <td>NaN</td>\n",
       "      <td>NaN</td>\n",
       "      <td>ровная</td>\n",
       "    </tr>\n",
       "    <tr>\n",
       "      <th>7</th>\n",
       "      <td>8</td>\n",
       "      <td>0.81</td>\n",
       "      <td>1014.29</td>\n",
       "      <td>Глины</td>\n",
       "      <td>\\темно-серые</td>\n",
       "      <td>Горизонтальная параллельная</td>\n",
       "      <td>Углистые остатки</td>\n",
       "      <td>NaN</td>\n",
       "      <td>NaN</td>\n",
       "      <td>ровная</td>\n",
       "    </tr>\n",
       "    <tr>\n",
       "      <th>8</th>\n",
       "      <td>9</td>\n",
       "      <td>0.94</td>\n",
       "      <td>1013.35</td>\n",
       "      <td>Песчаники крупнозернистые</td>\n",
       "      <td>серо-\\бежевые</td>\n",
       "      <td>Массивная</td>\n",
       "      <td>NaN</td>\n",
       "      <td>NaN</td>\n",
       "      <td>NaN</td>\n",
       "      <td>неровная</td>\n",
       "    </tr>\n",
       "    <tr>\n",
       "      <th>9</th>\n",
       "      <td>10</td>\n",
       "      <td>0.20</td>\n",
       "      <td>1013.15</td>\n",
       "      <td>Известняки песчанистые</td>\n",
       "      <td>белесо-\\бежевые</td>\n",
       "      <td>Массивная</td>\n",
       "      <td>NaN</td>\n",
       "      <td>NaN</td>\n",
       "      <td>NaN</td>\n",
       "      <td>ровная</td>\n",
       "    </tr>\n",
       "    <tr>\n",
       "      <th>10</th>\n",
       "      <td>11</td>\n",
       "      <td>0.45</td>\n",
       "      <td>1012.70</td>\n",
       "      <td>Песчаники крупнозернистые</td>\n",
       "      <td>\\бежевые</td>\n",
       "      <td>Массивная</td>\n",
       "      <td>NaN</td>\n",
       "      <td>Нефть</td>\n",
       "      <td>Умеренное</td>\n",
       "      <td>ровная</td>\n",
       "    </tr>\n",
       "    <tr>\n",
       "      <th>11</th>\n",
       "      <td>12</td>\n",
       "      <td>1.10</td>\n",
       "      <td>1011.60</td>\n",
       "      <td>Глины</td>\n",
       "      <td>\\темно-серые</td>\n",
       "      <td>Горизонтальная параллельная</td>\n",
       "      <td>Углистые остатки</td>\n",
       "      <td>NaN</td>\n",
       "      <td>NaN</td>\n",
       "      <td>неровная</td>\n",
       "    </tr>\n",
       "    <tr>\n",
       "      <th>12</th>\n",
       "      <td>13</td>\n",
       "      <td>0.60</td>\n",
       "      <td>1011.00</td>\n",
       "      <td>Песчаники крупнозернистые</td>\n",
       "      <td>\\серые</td>\n",
       "      <td>Массивная</td>\n",
       "      <td>Углистый детрит</td>\n",
       "      <td>NaN</td>\n",
       "      <td>NaN</td>\n",
       "      <td>неровная</td>\n",
       "    </tr>\n",
       "  </tbody>\n",
       "</table>\n",
       "</div>"
      ],
      "text/plain": [
       "    Number     H    Depth                       Rock            Color  \\\n",
       "0        1  0.42  1019.69  Песчаники крупнозернистые    буро-\\бежевые   \n",
       "1        2  1.80  1017.89                      Глины     \\темно-серые   \n",
       "2        3  0.10  1017.79  Песчаники крупнозернистые    серо-\\бежевые   \n",
       "3        4  0.62  1017.17                      Глины     \\темно-серые   \n",
       "4        5  0.92  1016.25  Песчаники крупнозернистые         \\бежевые   \n",
       "5        6  0.84  1015.41                      Глины     \\темно-серые   \n",
       "6        7  0.31  1015.10                       Угли          \\чёрные   \n",
       "7        8  0.81  1014.29                      Глины     \\темно-серые   \n",
       "8        9  0.94  1013.35  Песчаники крупнозернистые    серо-\\бежевые   \n",
       "9       10  0.20  1013.15     Известняки песчанистые  белесо-\\бежевые   \n",
       "10      11  0.45  1012.70  Песчаники крупнозернистые         \\бежевые   \n",
       "11      12  1.10  1011.60                      Глины     \\темно-серые   \n",
       "12      13  0.60  1011.00  Песчаники крупнозернистые           \\серые   \n",
       "\n",
       "                                             ТЕКСТУРА Включения органогенные  \\\n",
       "0                                           Массивная                    NaN   \n",
       "1                         Горизонтальная параллельная        Углистый детрит   \n",
       "2               Массивная\\Горизонтальная параллельная                    NaN   \n",
       "3   Горизонтальная параллельная\\Горизонтальная вол...       Углистые остатки   \n",
       "4                                           Массивная                    NaN   \n",
       "5                         Горизонтальная параллельная        Углистый детрит   \n",
       "6                         Горизонтальная параллельная                    NaN   \n",
       "7                         Горизонтальная параллельная       Углистые остатки   \n",
       "8                                           Массивная                    NaN   \n",
       "9                                           Массивная                    NaN   \n",
       "10                                          Массивная                    NaN   \n",
       "11                        Горизонтальная параллельная       Углистые остатки   \n",
       "12                                          Массивная        Углистый детрит   \n",
       "\n",
       "   Включения минеральные  НЕФТЕНАСЫЩЕНИЕ                ПОДОШВА СЛОЯ  \n",
       "0                  Нефть       Умеренное  не охарактеризована керном  \n",
       "1                    NaN             NaN                    неровная  \n",
       "2                  Нефть  Незначительное                    неровная  \n",
       "3                    NaN             NaN                    неровная  \n",
       "4                    NaN             NaN                    неровная  \n",
       "5                    NaN             NaN                    неровная  \n",
       "6                    NaN             NaN                      ровная  \n",
       "7                    NaN             NaN                      ровная  \n",
       "8                    NaN             NaN                    неровная  \n",
       "9                    NaN             NaN                      ровная  \n",
       "10                 Нефть       Умеренное                      ровная  \n",
       "11                   NaN             NaN                    неровная  \n",
       "12                   NaN             NaN                    неровная  "
      ]
     },
     "execution_count": 3,
     "metadata": {},
     "output_type": "execute_result"
    }
   ],
   "source": [
    "_102"
   ]
  },
  {
   "cell_type": "code",
   "execution_count": 4,
   "id": "9356e44b",
   "metadata": {},
   "outputs": [
    {
     "data": {
      "text/html": [
       "<div>\n",
       "<style scoped>\n",
       "    .dataframe tbody tr th:only-of-type {\n",
       "        vertical-align: middle;\n",
       "    }\n",
       "\n",
       "    .dataframe tbody tr th {\n",
       "        vertical-align: top;\n",
       "    }\n",
       "\n",
       "    .dataframe thead th {\n",
       "        text-align: right;\n",
       "    }\n",
       "</style>\n",
       "<table border=\"1\" class=\"dataframe\">\n",
       "  <thead>\n",
       "    <tr style=\"text-align: right;\">\n",
       "      <th></th>\n",
       "      <th>Number</th>\n",
       "      <th>H</th>\n",
       "      <th>Depth</th>\n",
       "      <th>Rock</th>\n",
       "      <th>Color</th>\n",
       "      <th>ТЕКСТУРА</th>\n",
       "      <th>Включения органогенные</th>\n",
       "      <th>Включения минеральные</th>\n",
       "      <th>НЕФТЕНАСЫЩЕНИЕ</th>\n",
       "      <th>ПОДОШВА СЛОЯ</th>\n",
       "    </tr>\n",
       "  </thead>\n",
       "  <tbody>\n",
       "    <tr>\n",
       "      <th>0</th>\n",
       "      <td>1</td>\n",
       "      <td>1.0</td>\n",
       "      <td>1009.0</td>\n",
       "      <td>Песчаники крупнозернистые</td>\n",
       "      <td>буро-\\бежевые</td>\n",
       "      <td>Массивная</td>\n",
       "      <td>NaN</td>\n",
       "      <td>Нефть</td>\n",
       "      <td>Умеренное</td>\n",
       "      <td>не охарактеризована керном</td>\n",
       "    </tr>\n",
       "    <tr>\n",
       "      <th>1</th>\n",
       "      <td>2</td>\n",
       "      <td>0.8</td>\n",
       "      <td>1008.2</td>\n",
       "      <td>Глины</td>\n",
       "      <td>\\темно-серые</td>\n",
       "      <td>Горизонтальная параллельная</td>\n",
       "      <td>Углистый детрит</td>\n",
       "      <td>NaN</td>\n",
       "      <td>NaN</td>\n",
       "      <td>неровная</td>\n",
       "    </tr>\n",
       "    <tr>\n",
       "      <th>2</th>\n",
       "      <td>3</td>\n",
       "      <td>0.7</td>\n",
       "      <td>1007.5</td>\n",
       "      <td>Песчаники крупнозернистые</td>\n",
       "      <td>серо-\\бежевые</td>\n",
       "      <td>Массивная\\Горизонтальная параллельная</td>\n",
       "      <td>NaN</td>\n",
       "      <td>Нефть</td>\n",
       "      <td>Незначительное</td>\n",
       "      <td>неровная</td>\n",
       "    </tr>\n",
       "    <tr>\n",
       "      <th>3</th>\n",
       "      <td>4</td>\n",
       "      <td>0.5</td>\n",
       "      <td>1007.0</td>\n",
       "      <td>Глины</td>\n",
       "      <td>\\темно-серые</td>\n",
       "      <td>Горизонтальная параллельная\\Горизонтальная вол...</td>\n",
       "      <td>Углистые остатки</td>\n",
       "      <td>NaN</td>\n",
       "      <td>NaN</td>\n",
       "      <td>неровная</td>\n",
       "    </tr>\n",
       "    <tr>\n",
       "      <th>4</th>\n",
       "      <td>5</td>\n",
       "      <td>0.1</td>\n",
       "      <td>1006.9</td>\n",
       "      <td>Угли</td>\n",
       "      <td>\\чёрные</td>\n",
       "      <td>Горизонтальная параллельная</td>\n",
       "      <td>NaN</td>\n",
       "      <td>NaN</td>\n",
       "      <td>NaN</td>\n",
       "      <td>ровная</td>\n",
       "    </tr>\n",
       "    <tr>\n",
       "      <th>5</th>\n",
       "      <td>6</td>\n",
       "      <td>1.0</td>\n",
       "      <td>1005.9</td>\n",
       "      <td>Песчаники крупнозернистые</td>\n",
       "      <td>\\бежевые</td>\n",
       "      <td>Массивная</td>\n",
       "      <td>NaN</td>\n",
       "      <td>NaN</td>\n",
       "      <td>NaN</td>\n",
       "      <td>неровная</td>\n",
       "    </tr>\n",
       "    <tr>\n",
       "      <th>6</th>\n",
       "      <td>7</td>\n",
       "      <td>0.8</td>\n",
       "      <td>1005.1</td>\n",
       "      <td>Глины</td>\n",
       "      <td>\\темно-серые</td>\n",
       "      <td>Горизонтальная параллельная</td>\n",
       "      <td>Углистый детрит</td>\n",
       "      <td>NaN</td>\n",
       "      <td>NaN</td>\n",
       "      <td>неровная</td>\n",
       "    </tr>\n",
       "    <tr>\n",
       "      <th>7</th>\n",
       "      <td>8</td>\n",
       "      <td>0.3</td>\n",
       "      <td>1004.8</td>\n",
       "      <td>Угли</td>\n",
       "      <td>\\чёрные</td>\n",
       "      <td>Горизонтальная параллельная</td>\n",
       "      <td>NaN</td>\n",
       "      <td>NaN</td>\n",
       "      <td>NaN</td>\n",
       "      <td>ровная</td>\n",
       "    </tr>\n",
       "    <tr>\n",
       "      <th>8</th>\n",
       "      <td>9</td>\n",
       "      <td>0.8</td>\n",
       "      <td>1004.0</td>\n",
       "      <td>Глины</td>\n",
       "      <td>\\темно-серые</td>\n",
       "      <td>Горизонтальная параллельная</td>\n",
       "      <td>Углистые остатки</td>\n",
       "      <td>NaN</td>\n",
       "      <td>NaN</td>\n",
       "      <td>ровная</td>\n",
       "    </tr>\n",
       "    <tr>\n",
       "      <th>9</th>\n",
       "      <td>10</td>\n",
       "      <td>1.0</td>\n",
       "      <td>1003.0</td>\n",
       "      <td>Песчаники крупнозернистые</td>\n",
       "      <td>серо-\\бежевые</td>\n",
       "      <td>Массивная</td>\n",
       "      <td>NaN</td>\n",
       "      <td>NaN</td>\n",
       "      <td>NaN</td>\n",
       "      <td>неровная</td>\n",
       "    </tr>\n",
       "    <tr>\n",
       "      <th>10</th>\n",
       "      <td>11</td>\n",
       "      <td>0.7</td>\n",
       "      <td>1002.3</td>\n",
       "      <td>Известняки песчанистые</td>\n",
       "      <td>белесо-\\бежевые</td>\n",
       "      <td>Массивная</td>\n",
       "      <td>NaN</td>\n",
       "      <td>NaN</td>\n",
       "      <td>NaN</td>\n",
       "      <td>ровная</td>\n",
       "    </tr>\n",
       "    <tr>\n",
       "      <th>11</th>\n",
       "      <td>12</td>\n",
       "      <td>0.5</td>\n",
       "      <td>1001.8</td>\n",
       "      <td>Песчаники крупнозернистые</td>\n",
       "      <td>\\бежевые</td>\n",
       "      <td>Массивная</td>\n",
       "      <td>NaN</td>\n",
       "      <td>Нефть</td>\n",
       "      <td>Умеренное</td>\n",
       "      <td>ровная</td>\n",
       "    </tr>\n",
       "    <tr>\n",
       "      <th>12</th>\n",
       "      <td>13</td>\n",
       "      <td>1.0</td>\n",
       "      <td>1000.8</td>\n",
       "      <td>Глины</td>\n",
       "      <td>\\темно-серые</td>\n",
       "      <td>Горизонтальная параллельная</td>\n",
       "      <td>Углистые остатки</td>\n",
       "      <td>NaN</td>\n",
       "      <td>NaN</td>\n",
       "      <td>неровная</td>\n",
       "    </tr>\n",
       "    <tr>\n",
       "      <th>13</th>\n",
       "      <td>14</td>\n",
       "      <td>0.8</td>\n",
       "      <td>1000.0</td>\n",
       "      <td>Песчаники крупнозернистые</td>\n",
       "      <td>\\серые</td>\n",
       "      <td>Массивная</td>\n",
       "      <td>Углистый детрит</td>\n",
       "      <td>NaN</td>\n",
       "      <td>NaN</td>\n",
       "      <td>неровная</td>\n",
       "    </tr>\n",
       "    <tr>\n",
       "      <th>14</th>\n",
       "      <td>13</td>\n",
       "      <td>1.0</td>\n",
       "      <td>999.0</td>\n",
       "      <td>Глины</td>\n",
       "      <td>\\темно-серые</td>\n",
       "      <td>Горизонтальная параллельная</td>\n",
       "      <td>Углистые остатки</td>\n",
       "      <td>NaN</td>\n",
       "      <td>NaN</td>\n",
       "      <td>неровная</td>\n",
       "    </tr>\n",
       "    <tr>\n",
       "      <th>15</th>\n",
       "      <td>14</td>\n",
       "      <td>0.8</td>\n",
       "      <td>998.2</td>\n",
       "      <td>Песчаники крупнозернистые</td>\n",
       "      <td>\\серые</td>\n",
       "      <td>Массивная</td>\n",
       "      <td>Углистый детрит</td>\n",
       "      <td>NaN</td>\n",
       "      <td>NaN</td>\n",
       "      <td>неровная</td>\n",
       "    </tr>\n",
       "  </tbody>\n",
       "</table>\n",
       "</div>"
      ],
      "text/plain": [
       "    Number    H   Depth                       Rock            Color  \\\n",
       "0        1  1.0  1009.0  Песчаники крупнозернистые    буро-\\бежевые   \n",
       "1        2  0.8  1008.2                      Глины     \\темно-серые   \n",
       "2        3  0.7  1007.5  Песчаники крупнозернистые    серо-\\бежевые   \n",
       "3        4  0.5  1007.0                      Глины     \\темно-серые   \n",
       "4        5  0.1  1006.9                       Угли          \\чёрные   \n",
       "5        6  1.0  1005.9  Песчаники крупнозернистые         \\бежевые   \n",
       "6        7  0.8  1005.1                      Глины     \\темно-серые   \n",
       "7        8  0.3  1004.8                       Угли          \\чёрные   \n",
       "8        9  0.8  1004.0                      Глины     \\темно-серые   \n",
       "9       10  1.0  1003.0  Песчаники крупнозернистые    серо-\\бежевые   \n",
       "10      11  0.7  1002.3     Известняки песчанистые  белесо-\\бежевые   \n",
       "11      12  0.5  1001.8  Песчаники крупнозернистые         \\бежевые   \n",
       "12      13  1.0  1000.8                      Глины     \\темно-серые   \n",
       "13      14  0.8  1000.0  Песчаники крупнозернистые           \\серые   \n",
       "14      13  1.0   999.0                      Глины     \\темно-серые   \n",
       "15      14  0.8   998.2  Песчаники крупнозернистые           \\серые   \n",
       "\n",
       "                                             ТЕКСТУРА Включения органогенные  \\\n",
       "0                                           Массивная                    NaN   \n",
       "1                         Горизонтальная параллельная        Углистый детрит   \n",
       "2               Массивная\\Горизонтальная параллельная                    NaN   \n",
       "3   Горизонтальная параллельная\\Горизонтальная вол...       Углистые остатки   \n",
       "4                         Горизонтальная параллельная                    NaN   \n",
       "5                                           Массивная                    NaN   \n",
       "6                         Горизонтальная параллельная        Углистый детрит   \n",
       "7                         Горизонтальная параллельная                    NaN   \n",
       "8                         Горизонтальная параллельная       Углистые остатки   \n",
       "9                                           Массивная                    NaN   \n",
       "10                                          Массивная                    NaN   \n",
       "11                                          Массивная                    NaN   \n",
       "12                        Горизонтальная параллельная       Углистые остатки   \n",
       "13                                          Массивная        Углистый детрит   \n",
       "14                        Горизонтальная параллельная       Углистые остатки   \n",
       "15                                          Массивная        Углистый детрит   \n",
       "\n",
       "   Включения минеральные  НЕФТЕНАСЫЩЕНИЕ                ПОДОШВА СЛОЯ  \n",
       "0                  Нефть       Умеренное  не охарактеризована керном  \n",
       "1                    NaN             NaN                    неровная  \n",
       "2                  Нефть  Незначительное                    неровная  \n",
       "3                    NaN             NaN                    неровная  \n",
       "4                    NaN             NaN                      ровная  \n",
       "5                    NaN             NaN                    неровная  \n",
       "6                    NaN             NaN                    неровная  \n",
       "7                    NaN             NaN                      ровная  \n",
       "8                    NaN             NaN                      ровная  \n",
       "9                    NaN             NaN                    неровная  \n",
       "10                   NaN             NaN                      ровная  \n",
       "11                 Нефть       Умеренное                      ровная  \n",
       "12                   NaN             NaN                    неровная  \n",
       "13                   NaN             NaN                    неровная  \n",
       "14                   NaN             NaN                    неровная  \n",
       "15                   NaN             NaN                    неровная  "
      ]
     },
     "execution_count": 4,
     "metadata": {},
     "output_type": "execute_result"
    }
   ],
   "source": [
    "_103"
   ]
  },
  {
   "attachments": {},
   "cell_type": "markdown",
   "id": "e34dfca1",
   "metadata": {},
   "source": [
    "файл 102 содержит 13 строк, файл 103 содержит 15 строк"
   ]
  },
  {
   "attachments": {},
   "cell_type": "markdown",
   "id": "7a722bf4",
   "metadata": {},
   "source": [
    "Дальше пишу функцию, которая возвращает строку, буквы в которой - это первые буквы из столбца 'Rock'. То есть это сокращённое обозначение пород"
   ]
  },
  {
   "cell_type": "code",
   "execution_count": 5,
   "id": "c2e5294e",
   "metadata": {},
   "outputs": [],
   "source": [
    "def sttr(a):\n",
    "    a1=[]\n",
    "    for i in range(len(a)):\n",
    "        a1.append(a[i][0])\n",
    "    a1=''.join(a1)\n",
    "    return a1"
   ]
  },
  {
   "attachments": {},
   "cell_type": "markdown",
   "id": "470a8a73",
   "metadata": {},
   "source": [
    "Применяю функцию к столбцу"
   ]
  },
  {
   "cell_type": "code",
   "execution_count": 6,
   "id": "a5ca2bf8",
   "metadata": {},
   "outputs": [],
   "source": [
    "a102=sttr(_102['Rock'])\n"
   ]
  },
  {
   "cell_type": "code",
   "execution_count": 7,
   "id": "688cf658",
   "metadata": {},
   "outputs": [],
   "source": [
    "a103=sttr(_103['Rock'])"
   ]
  },
  {
   "attachments": {},
   "cell_type": "markdown",
   "id": "3d49d273",
   "metadata": {},
   "source": [
    "полученные строки:"
   ]
  },
  {
   "cell_type": "code",
   "execution_count": 8,
   "id": "b799ef39",
   "metadata": {},
   "outputs": [
    {
     "data": {
      "text/plain": [
       "13"
      ]
     },
     "execution_count": 8,
     "metadata": {},
     "output_type": "execute_result"
    }
   ],
   "source": [
    "len(a102)\n"
   ]
  },
  {
   "cell_type": "code",
   "execution_count": 9,
   "id": "c3ca1e0d",
   "metadata": {},
   "outputs": [
    {
     "data": {
      "text/plain": [
       "16"
      ]
     },
     "execution_count": 9,
     "metadata": {},
     "output_type": "execute_result"
    }
   ],
   "source": [
    "len(a103)"
   ]
  },
  {
   "attachments": {},
   "cell_type": "markdown",
   "id": "1481bde6",
   "metadata": {},
   "source": [
    "Далее, нахожу расстояние Ливенштайна"
   ]
  },
  {
   "cell_type": "code",
   "execution_count": 10,
   "id": "03b353f7",
   "metadata": {},
   "outputs": [],
   "source": [
    "def levenstein(str_1, str_2):\n",
    "    n, m = len(str_1), len(str_2)\n",
    "    if n > m:\n",
    "        str_1, str_2 = str_2, str_1\n",
    "        n, m = m, n\n",
    "\n",
    "    current_row = range(n + 1)\n",
    "    for i in range(1, m + 1):\n",
    "        previous_row, current_row = current_row, [i] + [0] * n\n",
    "        for j in range(1, n + 1):\n",
    "            add, delete, change = previous_row[j] + 1, current_row[j - 1] + 1, previous_row[j - 1]\n",
    "            if str_1[j - 1] != str_2[i - 1]:\n",
    "                change += 1\n",
    "            current_row[j] = min(add, delete, change)\n",
    "\n",
    "    return current_row[n]"
   ]
  },
  {
   "attachments": {},
   "cell_type": "markdown",
   "id": "861d2d44",
   "metadata": {},
   "source": [
    "Полученное расстояние равно 3"
   ]
  },
  {
   "cell_type": "code",
   "execution_count": 11,
   "id": "5c237496",
   "metadata": {},
   "outputs": [
    {
     "data": {
      "text/plain": [
       "3"
      ]
     },
     "execution_count": 11,
     "metadata": {},
     "output_type": "execute_result"
    }
   ],
   "source": [
    "levenstein(a102, a103)"
   ]
  },
  {
   "cell_type": "code",
   "execution_count": 12,
   "id": "8c77ea37",
   "metadata": {},
   "outputs": [],
   "source": [
    "def lev(seq1, seq2):\n",
    "    size_x = len(seq1) + 1\n",
    "    size_y = len(seq2) + 1\n",
    "    matrix = np.zeros ((size_x, size_y))\n",
    "    for x in range(size_x):\n",
    "        matrix [x, 0] = x\n",
    "    for y in range(size_y):\n",
    "        matrix [0, y] = y\n",
    "\n",
    "    for x in range(1, size_x):\n",
    "        for y in range(1, size_y):\n",
    "            if seq1[x-1] == seq2[y-1]:\n",
    "                matrix [x,y] = min(\n",
    "                    matrix[x-1, y] + 1,\n",
    "                    matrix[x-1, y-1],\n",
    "                    matrix[x, y-1] + 1\n",
    "                )\n",
    "            else:\n",
    "                matrix [x,y] = min(\n",
    "                    matrix[x-1,y] + 1,\n",
    "                    matrix[x-1,y-1] + 1,\n",
    "                    matrix[x,y-1] + 1\n",
    "                )\n",
    "    print (matrix)\n",
    "    return (matrix[size_x - 1, size_y - 1])"
   ]
  },
  {
   "cell_type": "code",
   "execution_count": 50,
   "id": "86969a72",
   "metadata": {},
   "outputs": [
    {
     "name": "stdout",
     "output_type": "stream",
     "text": [
      "[[ 0.  1.  2.  3.  4.  5.  6.  7.  8.  9. 10. 11. 12. 13. 14. 15. 16.]\n",
      " [ 1.  0.  1.  2.  3.  4.  5.  6.  7.  8.  9. 10. 11. 12. 13. 14. 15.]\n",
      " [ 2.  1.  0.  1.  2.  3.  4.  5.  6.  7.  8.  9. 10. 11. 12. 13. 14.]\n",
      " [ 3.  2.  1.  0.  1.  2.  3.  4.  5.  6.  7.  8.  9. 10. 11. 12. 13.]\n",
      " [ 4.  3.  2.  1.  0.  1.  2.  3.  4.  5.  6.  7.  8.  9. 10. 11. 12.]\n",
      " [ 5.  4.  3.  2.  1.  1.  1.  2.  3.  4.  5.  6.  7.  8.  9. 10. 11.]\n",
      " [ 6.  5.  4.  3.  2.  2.  2.  1.  2.  3.  4.  5.  6.  7.  8.  9. 10.]\n",
      " [ 7.  6.  5.  4.  3.  2.  3.  2.  1.  2.  3.  4.  5.  6.  7.  8.  9.]\n",
      " [ 8.  7.  6.  5.  4.  3.  3.  3.  2.  1.  2.  3.  4.  5.  6.  7.  8.]\n",
      " [ 9.  8.  7.  6.  5.  4.  3.  4.  3.  2.  1.  2.  3.  4.  5.  6.  7.]\n",
      " [10.  9.  8.  7.  6.  5.  4.  4.  4.  3.  2.  1.  2.  3.  4.  5.  6.]\n",
      " [11. 10.  9.  8.  7.  6.  5.  5.  5.  4.  3.  2.  1.  2.  3.  4.  5.]\n",
      " [12. 11. 10.  9.  8.  7.  6.  5.  6.  5.  4.  3.  2.  1.  2.  3.  4.]\n",
      " [13. 12. 11. 10.  9.  8.  7.  6.  6.  6.  5.  4.  3.  2.  1.  2.  3.]]\n"
     ]
    },
    {
     "data": {
      "text/plain": [
       "3.0"
      ]
     },
     "execution_count": 50,
     "metadata": {},
     "output_type": "execute_result"
    }
   ],
   "source": [
    "lev(a102,a103)"
   ]
  },
  {
   "cell_type": "code",
   "execution_count": 13,
   "id": "c80b446d",
   "metadata": {},
   "outputs": [
    {
     "data": {
      "text/plain": [
       "'ПГПГПГУГПИПГП'"
      ]
     },
     "execution_count": 13,
     "metadata": {},
     "output_type": "execute_result"
    }
   ],
   "source": [
    "a102"
   ]
  },
  {
   "cell_type": "code",
   "execution_count": 14,
   "id": "451134e6",
   "metadata": {},
   "outputs": [
    {
     "data": {
      "text/plain": [
       "'ПГПГУПГУГПИПГПГП'"
      ]
     },
     "execution_count": 14,
     "metadata": {},
     "output_type": "execute_result"
    }
   ],
   "source": [
    "a103"
   ]
  },
  {
   "attachments": {},
   "cell_type": "markdown",
   "id": "025397c8",
   "metadata": {},
   "source": [
    "Преобразовываю строки в массивы"
   ]
  },
  {
   "cell_type": "code",
   "execution_count": 15,
   "id": "abfd02a6",
   "metadata": {},
   "outputs": [
    {
     "data": {
      "text/plain": [
       "(['П',\n",
       "  'Г',\n",
       "  'П',\n",
       "  'Г',\n",
       "  'У',\n",
       "  'П',\n",
       "  'Г',\n",
       "  'У',\n",
       "  'Г',\n",
       "  'П',\n",
       "  'И',\n",
       "  'П',\n",
       "  'Г',\n",
       "  'П',\n",
       "  'Г',\n",
       "  'П'],\n",
       " ['П', 'Г', 'П', 'Г', 'П', 'Г', 'У', 'Г', 'П', 'И', 'П', 'Г', 'П'])"
      ]
     },
     "execution_count": 15,
     "metadata": {},
     "output_type": "execute_result"
    }
   ],
   "source": [
    "La102=list(a102)\n",
    "La103=list(a103)\n",
    "La103,La102"
   ]
  },
  {
   "attachments": {},
   "cell_type": "markdown",
   "id": "cbe249e2",
   "metadata": {},
   "source": [
    "кодирую обозначения П,Г,У,И цифрами для дальнешего построения графиков"
   ]
  },
  {
   "cell_type": "code",
   "execution_count": 16,
   "id": "7c41c286",
   "metadata": {},
   "outputs": [
    {
     "name": "stdout",
     "output_type": "stream",
     "text": [
      "[1, 2, 1, 2, 1, 2, 3, 2, 1, 4, 1, 2, 1]\n",
      "[11, 12, 11, 12, 13, 11, 12, 13, 12, 11, 14, 11, 12, 11, 12, 11]\n"
     ]
    }
   ],
   "source": [
    "L102=[]\n",
    "L103=[]\n",
    "for i in La102:\n",
    "    if i=='П':\n",
    "        L102.append(1)\n",
    "    elif i=='Г':\n",
    "        L102.append(2)\n",
    "    elif i=='У':\n",
    "        L102.append(3)\n",
    "    elif i=='И':\n",
    "        L102.append(4)\n",
    "for i in La103:\n",
    "    if i=='П':\n",
    "        L103.append(11)\n",
    "    elif i=='Г':\n",
    "        L103.append(12)\n",
    "    elif i=='У':\n",
    "        L103.append(13)\n",
    "    elif i=='И':\n",
    "        L103.append(14)\n",
    "print(L102)\n",
    "print(L103)"
   ]
  },
  {
   "attachments": {},
   "cell_type": "markdown",
   "id": "553ec86a",
   "metadata": {},
   "source": [
    "Если построить обычный график ломаных, то будет не слишком информативно"
   ]
  },
  {
   "cell_type": "code",
   "execution_count": 17,
   "id": "c8cf92d1",
   "metadata": {},
   "outputs": [
    {
     "data": {
      "text/plain": [
       "(13, 16)"
      ]
     },
     "execution_count": 17,
     "metadata": {},
     "output_type": "execute_result"
    }
   ],
   "source": [
    "len(L102),len(L103)"
   ]
  },
  {
   "cell_type": "code",
   "execution_count": 18,
   "id": "f7dee226",
   "metadata": {},
   "outputs": [
    {
     "data": {
      "text/plain": [
       "[<matplotlib.lines.Line2D at 0x1ffdd62ea00>,\n",
       " <matplotlib.lines.Line2D at 0x1ffdd62ec40>]"
      ]
     },
     "execution_count": 18,
     "metadata": {},
     "output_type": "execute_result"
    },
    {
     "data": {
      "image/png": "[encoded data removed]",
      "text/plain": [
       "<Figure size 2160x720 with 1 Axes>"
      ]
     },
     "metadata": {
      "needs_background": "light"
     },
     "output_type": "display_data"
    }
   ],
   "source": [
    "plt.figure(figsize=(30,10))\n",
    "plt.plot(_102['Depth'],L102,_103['Depth'],L103)"
   ]
  },
  {
   "attachments": {},
   "cell_type": "markdown",
   "id": "345fcd78",
   "metadata": {},
   "source": [
    "Теперь строю ступенчатый график и красными линиями отмечаю соответственные значения(Одинаковые пласты)"
   ]
  },
  {
   "cell_type": "code",
   "execution_count": 19,
   "id": "3c3ccdc8",
   "metadata": {},
   "outputs": [
    {
     "data": {
      "image/png": "[encoded data removed]",
      "text/plain": [
       "<Figure size 720x720 with 1 Axes>"
      ]
     },
     "metadata": {
      "needs_background": "light"
     },
     "output_type": "display_data"
    }
   ],
   "source": [
    "fig, axes = plt.subplots(figsize=(10,10))\n",
    "d_102 = np.array(_102['Depth']).tolist()\n",
    "d_103 = np.array(_103['Depth']).tolist()\n",
    "d_103=[i+10 for i in d_103]\n",
    "x102=plt.step(L102,d_102,label=\"102\")\n",
    "x103=plt.step(L103,d_103,label=\"103\")\n",
    "\n",
    "leg=plt.legend(loc='upper center')\n",
    "\n",
    "for i in range(len(d_102)):\n",
    "    for j in range(i,len(d_103)):\n",
    "        if L102[i] == L103[j]-10:\n",
    "            x=[d_103[j],d_102[i]]\n",
    "            y=[L103[j],L102[i]]\n",
    "            break\n",
    "    \n",
    "    plt.plot(y,x)\n",
    "\n",
    "X_coal=[d_103[4],d_102[3]]\n",
    "Y_coal=[L103[4],L102[3]]\n",
    "\n",
    "plt.plot(Y_coal,X_coal)\n",
    "\n",
    "X_15=[d_103[13],d_102[12]]\n",
    "Y_15=[L103[13],L102[12]]\n",
    "\n",
    "X_16=[d_103[14],d_102[12]]\n",
    "Y_16=[L103[14],L102[12]]\n",
    "\n",
    "plt.plot(Y_15,X_15)\n",
    "plt.plot(Y_16,X_16) \n",
    "\n",
    "plt.show()"
   ]
  }
 ],
 "metadata": {
  "kernelspec": {
   "display_name": "Python 3 (ipykernel)",
   "language": "python",
   "name": "python3"
  },
  "language_info": {
   "codemirror_mode": {
    "name": "ipython",
    "version": 3
   },
   "file_extension": ".py",
   "mimetype": "text/x-python",
   "name": "python",
   "nbconvert_exporter": "python",
   "pygments_lexer": "ipython3",
   "version": "3.9.12"
  }
 },
 "nbformat": 4,
 "nbformat_minor": 5
}
